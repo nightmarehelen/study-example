{
 "cells": [
  {
   "cell_type": "markdown",
   "metadata": {
    "collapsed": true
   },
   "source": [
    " ## KNN算法 ##"
   ]
  },
  {
   "cell_type": "heading",
   "metadata": {},
   "level": 6,
   "source": [
    "创建数据集"
   ]
  },
  {
   "cell_type": "code",
   "execution_count": 5,
   "metadata": {},
   "outputs": [],
   "source": [
    "from numpy import *"
   ]
  },
  {
   "cell_type": "code",
   "execution_count": 21,
   "metadata": {},
   "outputs": [],
   "source": [
    "def create_data_set():\n",
    "    group = array([[1.0, 1.1], [1.0, 1.0], [0, 0], [0, 0.1]])\n",
    "    labels = ['A', 'A', 'B', 'B']\n",
    "    return group, labels"
   ]
  },
  {
   "cell_type": "code",
   "execution_count": 22,
   "metadata": {
    "collapsed": true
   },
   "outputs": [
    {
     "name": "stdout",
     "output_type": "stream",
     "text": [
      "(4, 2)\n"
     ]
    }
   ],
   "source": [
    "group, labels = create_data_set()\n",
    "print(group.shape)"
   ]
  },
  {
   "cell_type": "code",
   "execution_count": 23,
   "metadata": {},
   "outputs": [],
   "source": [
    "def classify0(input_data, data_set, labels, k):\n",
    "    \"\"\"\n",
    "    knn算法实现\n",
    "    :param inputdata: 输入参数，待分类数据\n",
    "    :param data_set: 数据集\n",
    "    :param labels: 已知分类结果\n",
    "    :param k: k值，\n",
    "    :return: \n",
    "    \"\"\"\n",
    "    # 计算总共多少行\n",
    "    data_set_size = data_set.shape[0]\n",
    "    \n",
    "    # 将输入的数组在行方向扩展为何data_set相同维度的矩阵，并进行代数差值计算\n",
    "    # 注意矩阵减法运算\n",
    "    diffmat = tile(input_data, (data_set_size, 1)) - data_set\n",
    "    \n",
    "    # 对于2维矩阵，沿着列方向求和，生成一个列向量\n",
    "    diff = (diffmat*diffmat).sum(axis= 1)\n",
    "    \n",
    "    # 待选举的值，差值较小的前K个值\n",
    "    to_voted = diff.argsort()\n",
    "    print(\"to_voted =\" % to_voted)\n",
    "    print(to_voted[:k])\n",
    "    counter = {}\n",
    "    # 计算各个标签出现的次数\n",
    "    for i in range(k):\n",
    "        counter[labels[i]] = counter.get(labels[i], 0) + 1\n",
    "    \n",
    "    sorted_counter = sorted(counter, key=lambda item: counter[item], reverse=True)\n",
    "    print(sorted_counter)\n",
    "    return sorted_counter[0]"
   ]
  },
  {
   "cell_type": "heading",
   "metadata": {},
   "level": 1,
   "source": [
    "tile函数用于将给定矩阵A重复rep次，A和rep维度的最大值决定最终结果的维度，如果rep的维度小于A的维度，rep需要插入1至前方构造一个和A维度相同的数组\n",
    "然后从右到左按照rep的至对A在各个维度进行重复"
   ]
  },
  {
   "cell_type": "code",
   "execution_count": 24,
   "metadata": {
    "collapsed": false
   },
   "outputs": [
    {
     "name": "stdout",
     "output_type": "stream",
     "text": [
      "to_voted =\n[0 1 3]\n['A', 'B']\n"
     ]
    },
    {
     "data": {
      "text/plain": [
       "'A'"
      ]
     },
     "execution_count": 24,
     "metadata": {},
     "output_type": "execute_result"
    }
   ],
   "source": [
    "classify0([1, 2], group, labels, 3)"
   ]
  },
  {
   "cell_type": "code",
   "execution_count": 30,
   "metadata": {},
   "outputs": [],
   "source": [
    "datingDataMat, datingLabels = file2matrix('data/chp02/datingTestSet.txt')"
   ]
  },
  {
   "cell_type": "code",
   "execution_count": 29,
   "metadata": {},
   "outputs": [],
   "source": [
    "def file2matrix(filename):\n",
    "    \"\"\"\n",
    "    读取文件数据，转化为矩阵\n",
    "    :param filename: 文件名\n",
    "    :return: \n",
    "    \"\"\"\n",
    "    f = open(filename)\n",
    "    matrix = []\n",
    "    labels = []\n",
    "    # 按行读取\n",
    "    for line in f.readlines():\n",
    "        # 去除行首行位的空白字符\n",
    "        line = line.strip()\n",
    "        # \\t分隔拆分\n",
    "        items = line.split('\\t')\n",
    "        matrix.append(int_list(items[:3]))\n",
    "        labels.append(items[3])\n",
    "    return array(matrix), labels\n",
    "\n",
    "\n",
    "def int_list(strs):\n",
    "    ret = []\n",
    "    for i in strs:\n",
    "        ret.append(float(i))\n",
    "    return ret"
   ]
  },
  {
   "cell_type": "heading",
   "metadata": {},
   "level": 6,
   "source": [
    "使用matplot画图"
   ]
  },
  {
   "cell_type": "code",
   "execution_count": 32,
   "metadata": {
    "collapsed": false
   },
   "outputs": [
    {
     "ename": "TypeError",
     "evalue": "ufunc 'multiply' did not contain a loop with signature matching types dtype('<U32') dtype('<U32') dtype('<U32')",
     "traceback": [
      "\u001b[1;31m---------------------------------------------------------------------------\u001b[0m",
      "\u001b[1;31mTypeError\u001b[0m                                 Traceback (most recent call last)",
      "\u001b[1;32m<ipython-input-32-b1ea2171aa0a>\u001b[0m in \u001b[0;36m<module>\u001b[1;34m()\u001b[0m\n\u001b[0;32m      6\u001b[0m \u001b[1;31m# If the three integers are I, J, and K, the subplot is the Ith plot on a grid with J rows and K columns.\u001b[0m\u001b[1;33m\u001b[0m\u001b[1;33m\u001b[0m\u001b[0m\n\u001b[0;32m      7\u001b[0m \u001b[0max\u001b[0m \u001b[1;33m=\u001b[0m \u001b[0mfig\u001b[0m\u001b[1;33m.\u001b[0m\u001b[0madd_subplot\u001b[0m\u001b[1;33m(\u001b[0m\u001b[1;36m1\u001b[0m\u001b[1;33m,\u001b[0m \u001b[1;36m1\u001b[0m\u001b[1;33m,\u001b[0m \u001b[1;36m1\u001b[0m\u001b[1;33m)\u001b[0m\u001b[1;33m\u001b[0m\u001b[0m\n\u001b[1;32m----> 8\u001b[1;33m \u001b[0max\u001b[0m\u001b[1;33m.\u001b[0m\u001b[0mscatter\u001b[0m\u001b[1;33m(\u001b[0m\u001b[0mdatingDataMat\u001b[0m\u001b[1;33m[\u001b[0m\u001b[1;33m:\u001b[0m\u001b[1;33m,\u001b[0m \u001b[1;36m1\u001b[0m\u001b[1;33m]\u001b[0m\u001b[1;33m,\u001b[0m \u001b[0mdatingDataMat\u001b[0m\u001b[1;33m[\u001b[0m\u001b[1;33m:\u001b[0m\u001b[1;33m,\u001b[0m \u001b[1;36m2\u001b[0m\u001b[1;33m]\u001b[0m\u001b[1;33m,\u001b[0m \u001b[1;36m15.0\u001b[0m\u001b[1;33m*\u001b[0m\u001b[0marray\u001b[0m\u001b[1;33m(\u001b[0m\u001b[0mdatingLabels\u001b[0m\u001b[1;33m)\u001b[0m\u001b[1;33m,\u001b[0m \u001b[1;36m15.0\u001b[0m\u001b[1;33m*\u001b[0m\u001b[0marray\u001b[0m\u001b[1;33m(\u001b[0m\u001b[0mdatingLabels\u001b[0m\u001b[1;33m)\u001b[0m\u001b[1;33m)\u001b[0m\u001b[1;33m\u001b[0m\u001b[0m\n\u001b[0m\u001b[0;32m      9\u001b[0m \u001b[0mplt\u001b[0m\u001b[1;33m.\u001b[0m\u001b[0mshow\u001b[0m\u001b[1;33m(\u001b[0m\u001b[1;33m)\u001b[0m\u001b[1;33m\u001b[0m\u001b[0m\n",
      "\u001b[1;31mTypeError\u001b[0m: ufunc 'multiply' did not contain a loop with signature matching types dtype('<U32') dtype('<U32') dtype('<U32')"
     ],
     "output_type": "error"
    }
   ],
   "source": [
    "from matplotlib import pyplot as plt\n",
    "\n",
    "# Creates a new figure\n",
    "fig = plt.figure()\n",
    "\n",
    "# If the three integers are I, J, and K, the subplot is the Ith plot on a grid with J rows and K columns.\n",
    "ax = fig.add_subplot(1, 1, 1)\n",
    "ax.scatter(datingDataMat[:, 1], datingDataMat[:, 2], 15.0*array(datingLabels), 15.0*array(datingLabels))\n",
    "plt.show()\n"
   ]
  },
  {
   "cell_type": "code",
   "execution_count": 1,
   "metadata": {},
   "outputs": [
    {
     "data": {
      "text/plain": [
       "['',\n 'G:\\\\programming\\\\anaconda3\\\\python36.zip',\n 'G:\\\\programming\\\\anaconda3\\\\DLLs',\n 'G:\\\\programming\\\\anaconda3\\\\lib',\n 'G:\\\\programming\\\\anaconda3',\n 'G:\\\\programming\\\\anaconda3\\\\lib\\\\site-packages',\n 'G:\\\\programming\\\\anaconda3\\\\lib\\\\site-packages\\\\Babel-2.5.0-py3.6.egg',\n 'G:\\\\programming\\\\anaconda3\\\\lib\\\\site-packages\\\\win32',\n 'G:\\\\programming\\\\anaconda3\\\\lib\\\\site-packages\\\\win32\\\\lib',\n 'G:\\\\programming\\\\anaconda3\\\\lib\\\\site-packages\\\\Pythonwin',\n 'G:\\\\programming\\\\anaconda3\\\\lib\\\\site-packages\\\\IPython\\\\extensions',\n 'C:\\\\Users\\\\admin1\\\\.ipython']"
      ]
     },
     "execution_count": 1,
     "metadata": {},
     "output_type": "execute_result"
    }
   ],
   "source": [
    "import  sys\n",
    "sys.path"
   ]
  },
  {
   "cell_type": "code",
   "execution_count": null,
   "metadata": {},
   "outputs": [],
   "source": []
  }
 ],
 "metadata": {
  "kernelspec": {
   "display_name": "Python 2",
   "language": "python",
   "name": "python2"
  },
  "language_info": {
   "codemirror_mode": {
    "name": "ipython",
    "version": 2
   },
   "file_extension": ".py",
   "mimetype": "text/x-python",
   "name": "python",
   "nbconvert_exporter": "python",
   "pygments_lexer": "ipython2",
   "version": "2.7.6"
  }
 },
 "nbformat": 4,
 "nbformat_minor": 0
}
