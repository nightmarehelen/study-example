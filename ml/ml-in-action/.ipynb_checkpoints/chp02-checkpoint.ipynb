{
 "cells": [
  {
   "cell_type": "markdown",
   "metadata": {
    "collapsed": true
   },
   "source": [
    " ## KNN算法 ##"
   ]
  },
  {
   "cell_type": "heading",
   "level": 6,
   "metadata": {},
   "source": [
    "创建数据集"
   ]
  },
  {
   "cell_type": "code",
   "execution_count": 1,
   "metadata": {
    "collapsed": true
   },
   "outputs": [],
   "source": [
    "from numpy import *"
   ]
  },
  {
   "cell_type": "code",
   "execution_count": 2,
   "metadata": {
    "collapsed": true
   },
   "outputs": [],
   "source": [
    "def create_data_set():\n",
    "    group = array([[1.0, 1.1], [1.0, 1.0], [0, 0], [0, 0.1]])\n",
    "    labels = ['A', 'A', 'B', 'B']\n",
    "    return group, labels"
   ]
  },
  {
   "cell_type": "code",
   "execution_count": 4,
   "metadata": {},
   "outputs": [
    {
     "name": "stdout",
     "output_type": "stream",
     "text": [
      "(4, 2)\n"
     ]
    }
   ],
   "source": [
    "group, labels = create_data_set()\n",
    "print(group.shape)"
   ]
  },
  {
   "cell_type": "code",
   "execution_count": 5,
   "metadata": {
    "collapsed": true
   },
   "outputs": [],
   "source": [
    "def classify0(input_data, data_set, labels, k):\n",
    "    \"\"\"\n",
    "    knn算法实现\n",
    "    :param inputdata: 输入参数，待分类数据\n",
    "    :param data_set: 数据集\n",
    "    :param labels: 已知分类结果\n",
    "    :param k: k值，\n",
    "    :return: \n",
    "    \"\"\"\n",
    "    # 计算总共多少行\n",
    "    data_set_size = data_set.shape[0]\n",
    "    \n",
    "    # 将输入的数组在行方向扩展为何data_set相同维度的矩阵，并进行代数差值计算\n",
    "    # 注意矩阵减法运算\n",
    "    diffmat = tile(input_data, (data_set_size, 1)) - data_set\n",
    "    \n",
    "    # 对于2维矩阵，沿着列方向求和，生成一个列向量\n",
    "    diff = (diffmat*diffmat).sum(axis= 1)\n",
    "    \n",
    "    # 待选举的值，差值较小的前K个值\n",
    "    to_voted = diff.argsort()\n",
    "    print(\"to_voted =\" % to_voted)\n",
    "    print(to_voted[:k])\n",
    "    counter = {}\n",
    "    # 计算各个标签出现的次数\n",
    "    for i in range(k):\n",
    "        counter[labels[i]] = counter.get(labels[i], 0) + 1\n",
    "    \n",
    "    sorted_counter = sorted(counter, key=lambda item: counter[item], reverse=True)\n",
    "    print(sorted_counter)\n",
    "    return sorted_counter[0]"
   ]
  },
  {
   "cell_type": "heading",
   "level": 1,
   "metadata": {},
   "source": [
    "tile函数用于将给定矩阵A重复rep次，A和rep维度的最大值决定最终结果的维度，如果rep的维度小于A的维度，rep需要插入1至前方构造一个和A维度相同的数组\n",
    "然后从右到左按照rep的至对A在各个维度进行重复"
   ]
  },
  {
   "cell_type": "code",
   "execution_count": 6,
   "metadata": {},
   "outputs": [
    {
     "name": "stdout",
     "output_type": "stream",
     "text": [
      "to_voted =\n",
      "[0 1 3]\n",
      "['A', 'B']\n"
     ]
    },
    {
     "data": {
      "text/plain": [
       "'A'"
      ]
     },
     "execution_count": 6,
     "metadata": {},
     "output_type": "execute_result"
    }
   ],
   "source": [
    "classify0([1, 2], group, labels, 3)"
   ]
  },
  {
   "cell_type": "code",
   "execution_count": 7,
   "metadata": {
    "collapsed": true
   },
   "outputs": [],
   "source": [
    "def file2matrix(filename):\n",
    "    \"\"\"\n",
    "    读取文件数据，转化为矩阵\n",
    "    :param filename: 文件名\n",
    "    :return: \n",
    "    \"\"\"\n",
    "    f = open(filename)\n",
    "    matrix = []\n",
    "    labels = []\n",
    "    # 按行读取\n",
    "    for line in f.readlines():\n",
    "        # 去除行首行位的空白字符\n",
    "        line = line.strip()\n",
    "        # \\t分隔拆分\n",
    "        items = line.split('\\t')\n",
    "        matrix.append(int_list(items[:3]))\n",
    "        labels.append(items[3])\n",
    "    return array(matrix), labels\n",
    "\n",
    "def int_list(strs):\n",
    "    ret = []\n",
    "    for i in strs:\n",
    "        ret.append(float(i))\n",
    "    return ret"
   ]
  },
  {
   "cell_type": "code",
   "execution_count": 8,
   "metadata": {
    "collapsed": true
   },
   "outputs": [],
   "source": [
    "datingDataMat, datingLabels = file2matrix('data/chp02/datingTestSet.txt')"
   ]
  },
  {
   "cell_type": "heading",
   "level": 6,
   "metadata": {},
   "source": [
    "使用matplot画图"
   ]
  },
  {
   "cell_type": "code",
   "execution_count": 9,
   "metadata": {},
   "outputs": [
    {
     "name": "stderr",
     "output_type": "stream",
     "text": [
      "G:\\programming\\anaconda3\\lib\\site-packages\\matplotlib\\figure.py:418: UserWarning: matplotlib is currently using a non-GUI backend, so cannot show the figure\n",
      "  \"matplotlib is currently using a non-GUI backend, \"\n"
     ]
    }
   ],
   "source": [
    "from matplotlib import pyplot as plt\n",
    "\n",
    "# Creates a new figure\n",
    "fig = plt.figure()\n",
    "\n",
    "# If the three integers are I, J, and K, the subplot is the Ith plot on a grid with J rows and K columns.\n",
    "ax = fig.add_subplot(1, 1, 1)\n",
    "ax.scatter(datingDataMat[:, 1], datingDataMat[:, 2])\n",
    "fig.show()\n"
   ]
  },
  {
   "cell_type": "code",
   "execution_count": 1,
   "metadata": {},
   "outputs": [
    {
     "data": {
      "text/plain": [
       "['',\n",
       " 'G:\\\\programming\\\\anaconda3\\\\python36.zip',\n",
       " 'G:\\\\programming\\\\anaconda3\\\\DLLs',\n",
       " 'G:\\\\programming\\\\anaconda3\\\\lib',\n",
       " 'G:\\\\programming\\\\anaconda3',\n",
       " 'G:\\\\programming\\\\anaconda3\\\\lib\\\\site-packages',\n",
       " 'G:\\\\programming\\\\anaconda3\\\\lib\\\\site-packages\\\\Babel-2.5.0-py3.6.egg',\n",
       " 'G:\\\\programming\\\\anaconda3\\\\lib\\\\site-packages\\\\win32',\n",
       " 'G:\\\\programming\\\\anaconda3\\\\lib\\\\site-packages\\\\win32\\\\lib',\n",
       " 'G:\\\\programming\\\\anaconda3\\\\lib\\\\site-packages\\\\Pythonwin',\n",
       " 'G:\\\\programming\\\\anaconda3\\\\lib\\\\site-packages\\\\IPython\\\\extensions',\n",
       " 'C:\\\\Users\\\\admin1\\\\.ipython']"
      ]
     },
     "execution_count": 1,
     "metadata": {},
     "output_type": "execute_result"
    }
   ],
   "source": [
    "import  sys\n",
    "sys.path"
   ]
  },
  {
   "cell_type": "code",
   "execution_count": null,
   "metadata": {
    "collapsed": true
   },
   "outputs": [],
   "source": []
  }
 ],
 "metadata": {
  "kernelspec": {
   "display_name": "Python 3",
   "language": "python",
   "name": "python3"
  },
  "language_info": {
   "codemirror_mode": {
    "name": "ipython",
    "version": 3
   },
   "file_extension": ".py",
   "mimetype": "text/x-python",
   "name": "python",
   "nbconvert_exporter": "python",
   "pygments_lexer": "ipython3",
   "version": "3.6.3"
  }
 },
 "nbformat": 4,
 "nbformat_minor": 1
}
